{
 "cells": [
  {
   "cell_type": "code",
   "execution_count": 1,
   "metadata": {},
   "outputs": [
    {
     "data": {
      "text/plain": [
       "4"
      ]
     },
     "execution_count": 1,
     "metadata": {},
     "output_type": "execute_result"
    }
   ],
   "source": [
    "import numpy as np\n",
    "np.random.seed(0)\n",
    "import matplotlib.pyplot as plt\n",
    "%matplotlib inline\n",
    "import gc\n",
    "gc.collect()"
   ]
  },
  {
   "cell_type": "code",
   "execution_count": 52,
   "metadata": {},
   "outputs": [],
   "source": [
    "X = np.array([[0, 0, 0, 0, 0, 0], [1, 0, 1, 0, 0, 0],\n",
    "                                [1, 0, 0, 0, 0, 0], [0, 0, 1, 0, 0, 0],\n",
    "                                [2, 0, 0, 0, 0, 0], [0, 1, 0, 0, 1, 1],\n",
    "                                [1, 1, 0, 1, 1, 1], [1, 1, 0, 0, 1, 0],\n",
    "                                [1, 1, 1, 1, 1, 0], [0, 2, 2, 0, 2, 1],\n",
    "                                [2, 2, 2, 2, 2, 0], [2, 0, 0, 2, 2, 1],\n",
    "                                [0, 1, 0, 1, 0, 0], [2, 1, 1, 1, 0, 0],\n",
    "                                [1, 1, 0, 0, 1, 1], [2, 0, 0, 2, 2, 0],\n",
    "                                [0, 0, 1, 1, 1, 0]])\n",
    "y = np.array([1, 1, 1, 1, 1, 1, 1, 1, 0, 0, 0, 0, 0, 0, 0, 0, 0])\n",
    "\n",
    "X_test=np.array([[0, 0, 1, 0, 0, 0], [1, 0, 1, 0, 0, 0],\n",
    "                    [1, 1, 0, 1, 1, 0], [1, 0, 1, 1, 1, 0],\n",
    "                     [1, 1, 0, 0, 1, 1], [2, 0, 0, 2, 2, 0],\n",
    "                     [0, 0, 1, 1, 1, 0],\n",
    "                     [2, 0, 0, 2, 2, 0],\n",
    "                     [0, 0, 1, 1, 1, 0]\n",
    "                     ])"
   ]
  },
  {
   "cell_type": "code",
   "execution_count": 85,
   "metadata": {},
   "outputs": [
    {
     "name": "stdout",
     "output_type": "stream",
     "text": [
      "[1, 1, 1, 1, 1, 0, 0, 0, 0]\n"
     ]
    }
   ],
   "source": [
    "class NBclassifier:\n",
    "    def __init__(self, n_class=2, smooth=False):\n",
    "        self.pxc = None\n",
    "        self.n_class = n_class\n",
    "        self.pc = None\n",
    "        self.smooth = smooth #是否平滑\n",
    "        \n",
    "    def fit(self, X, y):\n",
    "        n_attr = X.shape[1] \n",
    "        y_unique = np.sort(np.unique(y)) #并从小到大排列独立值\n",
    "        self.pc = np.zeros(len(y_unique))\n",
    "        if self.smooth:\n",
    "            for i in range(len(y_unique)):\n",
    "                self.pc[i] = len(np.where(y==y_unique[i])[0] + 1) / (len(y) + len(y_unique)) #公式7.19\n",
    "        else:\n",
    "            for i in range(len(y_unique)):\n",
    "                self.pc[i] = len(np.where(y==y_unique[i])[0]) / len(y) #公式7.16\n",
    "\n",
    "        #对于离散属性 \n",
    "        pxc = {}\n",
    "        for c in y_unique:\n",
    "            Dcx = {}\n",
    "            indices = np.where(y==c)[0]\n",
    "            for attr_index in range(n_attr): #对于每一个特征\n",
    "                pxic = {}\n",
    "                attr_unique = np.unique(X[indices][:, attr_index])  #该字段有多少种x值\n",
    "                for xi in attr_unique:\n",
    "                    dvc = np.where(X[indices][:, attr_index]==xi)[0]\n",
    "                    if self.smooth:\n",
    "                        pxic[xi] = (len(dvc) +1) / (len(indices)+len(attr_unique)) #公式7.20\n",
    "                    else:\n",
    "                        pxic[xi] = len(dvc) / len(indices) #公式7.17\n",
    "                    \n",
    "                Dcx[attr_index] = pxic\n",
    "            pxc[c] = Dcx\n",
    "        self.pxc = pxc\n",
    "\n",
    "    def predict(self, X):\n",
    "        p = []\n",
    "        for x in range(X.shape[0]):\n",
    "            pmax = 0\n",
    "            y_hat = None\n",
    "            for c in range(self.n_class):\n",
    "                p_0 = self.pc[c]\n",
    "                Dcx = self.pxc[c]\n",
    "                for attr_index, pxic in Dcx.items():\n",
    "                    xi = X[x][attr_index] #当前sample的xi特征值\n",
    "                    if xi in pxic.keys():  #可能存在训练集在该类别中，该值未出现\n",
    "                        p_0 *= pxic[xi]\n",
    "                    else:\n",
    "                        if self.smooth:\n",
    "                            p_0 *= 1 / len(pxic.keys())\n",
    "                        else:\n",
    "                            p_0 *= 0\n",
    "                        \n",
    "                if p_0 >= pmax:\n",
    "                    pmax = p_0\n",
    "                    y_hat = c\n",
    "            p.append(y_hat)\n",
    "            \n",
    "        return p\n",
    "                    \n",
    "nb = NBclassifier()\n",
    "nb.fit(X, y)\n",
    "y_hat = nb.predict(X_test)\n",
    "print(y_hat)\n",
    "        "
   ]
  },
  {
   "cell_type": "code",
   "execution_count": null,
   "metadata": {},
   "outputs": [],
   "source": []
  }
 ],
 "metadata": {
  "kernelspec": {
   "display_name": "Python 3",
   "language": "python",
   "name": "python3"
  },
  "language_info": {
   "codemirror_mode": {
    "name": "ipython",
    "version": 3
   },
   "file_extension": ".py",
   "mimetype": "text/x-python",
   "name": "python",
   "nbconvert_exporter": "python",
   "pygments_lexer": "ipython3",
   "version": "3.6.0"
  }
 },
 "nbformat": 4,
 "nbformat_minor": 2
}
