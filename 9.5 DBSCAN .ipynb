{
 "cells": [
  {
   "cell_type": "code",
   "execution_count": 25,
   "metadata": {},
   "outputs": [
    {
     "data": {
      "text/plain": [
       "10451"
      ]
     },
     "execution_count": 25,
     "metadata": {},
     "output_type": "execute_result"
    }
   ],
   "source": [
    "import numpy as np\n",
    "np.random.seed(0)\n",
    "from queue import Queue\n",
    "import matplotlib.pyplot as plt\n",
    "%matplotlib inline\n",
    "import gc\n",
    "gc.collect()"
   ]
  },
  {
   "cell_type": "code",
   "execution_count": 26,
   "metadata": {},
   "outputs": [],
   "source": [
    "# p202 西瓜数据集4.0\n",
    "X=np.array([[0.697,0.460],[0.774,0.376],[0.634,0.264],[0.608,0.318],[0.556,0.215],\n",
    "                [0.403,0.237],[0.481,0.149],[0.437,0.211],[0.666,0.091],[0.243,0.267],\n",
    "                [0.245,0.057],[0.343,0.099],[0.639,0.161],[0.657,0.198],[0.360,0.370],\n",
    "                [0.593,0.042],[0.719,0.103],[0.359,0.188],[0.339,0.241],[0.282,0.257],\n",
    "                [0.748,0.232],[0.714,0.346],[0.483,0.312],[0.478,0.437],[0.525,0.369],\n",
    "                [0.751,0.489],[0.532,0.472],[0.473,0.376],[0.725,0.445],[0.446,0.459]])\n"
   ]
  },
  {
   "cell_type": "code",
   "execution_count": 27,
   "metadata": {},
   "outputs": [],
   "source": [
    "class DBSCAN:\n",
    "    def __init__(self, e, MinPts):\n",
    "        self.e = e\n",
    "        self.MinPts = MinPts\n",
    "    \n",
    "    def fit(self, X):\n",
    "        #图9.9\n",
    "        n_samples = X.shape[0]\n",
    "        omega = [] #line 1\n",
    "        Ne = {} \n",
    "        for j in range(n_samples): # line2-7\n",
    "            N = [] #存储第j个样本的所有e领域样本\n",
    "            for i in range(n_samples):\n",
    "                if i!=j:\n",
    "                    dji = np.sqrt(np.sum(np.square(X[j] - X[i])))\n",
    "                    if dji <= self.e:\n",
    "                        N.append(i) \n",
    "            if len(N)>=self.MinPts:\n",
    "                omega.append(j) \n",
    "            Ne[j] = N\n",
    "   \n",
    "        k = 0 #line 8\n",
    "        C = {}\n",
    "        gama = list(np.arange(n_samples)) #line 9\n",
    "\n",
    "        \n",
    "        while(len(omega)): #line 10-24\n",
    "            gama_old = gama.copy() # line 11需要深拷贝 不然俩值到后面表示一个含义 因为没有子对象，所以.copy()够用\n",
    "            o = omega[int(np.random.random()*len(omega))] # line 12\n",
    "            \n",
    "            Q = Queue()  #line 12\n",
    "            Q.put(o)\n",
    "            gama.remove(o) #line 13\n",
    "            \n",
    "            while(not Q.empty()): #line 14-21\n",
    "                q = Q.get()\n",
    "                if len(Ne[q]) >= self.MinPts: #line 16\n",
    "                    triangle = list(set(Ne[q]).intersection(set(gama)))\n",
    "                    for i in triangle: \n",
    "                        Q.put(i)\n",
    "                        gama.remove(i)\n",
    "                        \n",
    "            C[k] = list(set(gama_old).difference(set(gama))) #line 22\n",
    "\n",
    "            omega = list(set(omega).difference(C[k])) #line 23\n",
    "\n",
    "            k += 1\n",
    "            \n",
    "        return C\n",
    "        \n",
    "        "
   ]
  },
  {
   "cell_type": "code",
   "execution_count": 28,
   "metadata": {},
   "outputs": [],
   "source": [
    "dbscan = DBSCAN(e=0.11, MinPts=5)\n",
    "C = dbscan.fit(X)"
   ]
  },
  {
   "cell_type": "code",
   "execution_count": 29,
   "metadata": {},
   "outputs": [
    {
     "data": {
      "image/png": "[encoded data removed]",
      "text/plain": [
       "<Figure size 432x288 with 1 Axes>"
      ]
     },
     "metadata": {
      "needs_background": "light"
     },
     "output_type": "display_data"
    }
   ],
   "source": [
    "colors = ['r', 'b', 'y']\n",
    "for i in range(len(C)):\n",
    "    for j in range(len(C[i])):     \n",
    "        plt.scatter(X[C[i][j]][1], X[C[i][j]][0], c=colors[i])\n",
    "    "
   ]
  },
  {
   "cell_type": "code",
   "execution_count": null,
   "metadata": {},
   "outputs": [],
   "source": []
  }
 ],
 "metadata": {
  "kernelspec": {
   "display_name": "Python 3",
   "language": "python",
   "name": "python3"
  },
  "language_info": {
   "codemirror_mode": {
    "name": "ipython",
    "version": 3
   },
   "file_extension": ".py",
   "mimetype": "text/x-python",
   "name": "python",
   "nbconvert_exporter": "python",
   "pygments_lexer": "ipython3",
   "version": "3.6.0"
  }
 },
 "nbformat": 4,
 "nbformat_minor": 2
}
