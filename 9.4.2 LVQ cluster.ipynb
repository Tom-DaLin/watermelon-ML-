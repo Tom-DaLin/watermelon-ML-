{
 "cells": [
  {
   "cell_type": "code",
   "execution_count": 1,
   "metadata": {},
   "outputs": [
    {
     "data": {
      "text/plain": [
       "4"
      ]
     },
     "execution_count": 1,
     "metadata": {},
     "output_type": "execute_result"
    }
   ],
   "source": [
    "import numpy as np\n",
    "np.random.seed(0)\n",
    "import matplotlib.pyplot as plt\n",
    "%matplotlib inline\n",
    "import gc\n",
    "gc.collect()"
   ]
  },
  {
   "cell_type": "code",
   "execution_count": 14,
   "metadata": {},
   "outputs": [],
   "source": [
    "# p202 西瓜数据集4.0\n",
    "X=np.array([[0.697,0.460],[0.774,0.376],[0.634,0.264],[0.608,0.318],[0.556,0.215],\n",
    "                [0.403,0.237],[0.481,0.149],[0.437,0.211],[0.666,0.091],[0.243,0.267],\n",
    "                [0.245,0.057],[0.343,0.099],[0.639,0.161],[0.657,0.198],[0.360,0.370],\n",
    "                [0.593,0.042],[0.719,0.103],[0.359,0.188],[0.339,0.241],[0.282,0.257],\n",
    "                [0.748,0.232],[0.714,0.346],[0.483,0.312],[0.478,0.437],[0.525,0.369],\n",
    "                [0.751,0.489],[0.532,0.472],[0.473,0.376],[0.725,0.445],[0.446,0.459]])\n",
    "\n",
    "y = np.array([0] * 8 + [1] * 13 + [0] * 9)"
   ]
  },
  {
   "cell_type": "code",
   "execution_count": 21,
   "metadata": {},
   "outputs": [
    {
     "name": "stdout",
     "output_type": "stream",
     "text": [
      "[0, 0, 0, 0, 1, 1, 1, 1, 1, 1, 1, 1, 1, 0, 1, 1, 0, 1, 1, 1, 0, 0, 0, 0, 0, 0, 0, 0, 0, 0]\n"
     ]
    }
   ],
   "source": [
    "class LVQ:\n",
    "    def __init__(self, q, eta, maxiter):\n",
    "        self.q = q\n",
    "        self.eta = eta\n",
    "        self.maxiter = maxiter\n",
    "        self.p = None\n",
    "        self.t = None\n",
    "    \n",
    "    def fit(self, X, y):\n",
    "        n_samples = X.shape[0]\n",
    "        y_unique = np.sort(np.unique(y))\n",
    "        \n",
    "        assert self.q <= len(y_unique)\n",
    "        \n",
    "        #图9.4\n",
    "        p = []\n",
    "        t = []\n",
    "        for i in range(self.q): #line 1\n",
    "            indices = np.where(y==i)[0]\n",
    "            p.append(X[indices[0]])\n",
    "            t.append(i)\n",
    "            \n",
    "        self.t = t\n",
    "        \n",
    "        for _ in range(self.maxiter):\n",
    "            index = int(np.random.random() * len(y))\n",
    "            sample = X[index] #line 3\n",
    "            \n",
    "            d = []\n",
    "            for i in range(self.q):\n",
    "                dji = np.sqrt(np.sum(np.square(sample - p[i]))) # line 4\n",
    "                d.append(dji)\n",
    "            \n",
    "            i_star = np.argmin(d) # line 5\n",
    "            t_star = t[i_star]\n",
    "            \n",
    "            if y[index] == t_star: # line 6-10\n",
    "                p[i_star] = p[i_star] + self.eta * (sample - p[i_star])\n",
    "            else:\n",
    "                p[i_star] = p[i_star] - self.eta * (sample - p[i_star])\n",
    "                \n",
    "        self.p = p\n",
    "\n",
    "    def predict(self, X):\n",
    "        n_samples = X.shape[0]\n",
    "        y_hat = []\n",
    "        for _ in range(n_samples):\n",
    "            d = []\n",
    "            for i in range(self.q):\n",
    "                dji = np.sqrt(np.sum(np.square(X[_] - self.p[i]))) # line 4\n",
    "                d.append(dji)\n",
    "\n",
    "            i_star = np.argmin(d) # line 5\n",
    "            t_star = self.t[i_star]\n",
    "            y_hat.append(t_star)\n",
    "        return y_hat\n",
    "        \n",
    "        \n",
    "        \n",
    "\n",
    "                \n",
    "lvq = LVQ(2, 0.1, 200)\n",
    "lvq.fit(X, y)\n",
    "y_hat = lvq.predict(X)\n",
    "print(y_hat)\n",
    "\n",
    "        "
   ]
  },
  {
   "cell_type": "code",
   "execution_count": 23,
   "metadata": {},
   "outputs": [
    {
     "data": {
      "image/png": "[encoded data removed]",
      "text/plain": [
       "<Figure size 432x288 with 1 Axes>"
      ]
     },
     "metadata": {
      "needs_background": "light"
     },
     "output_type": "display_data"
    }
   ],
   "source": [
    "colors = ['r', 'b', 'y']\n",
    "for i in range(len(X)):\n",
    "    plt.scatter(X[i][1], X[i][0], c=colors[y_hat[i]])\n",
    "    "
   ]
  },
  {
   "cell_type": "code",
   "execution_count": null,
   "metadata": {},
   "outputs": [],
   "source": []
  }
 ],
 "metadata": {
  "kernelspec": {
   "display_name": "Python 3",
   "language": "python",
   "name": "python3"
  },
  "language_info": {
   "codemirror_mode": {
    "name": "ipython",
    "version": 3
   },
   "file_extension": ".py",
   "mimetype": "text/x-python",
   "name": "python",
   "nbconvert_exporter": "python",
   "pygments_lexer": "ipython3",
   "version": "3.6.0"
  }
 },
 "nbformat": 4,
 "nbformat_minor": 2
}
