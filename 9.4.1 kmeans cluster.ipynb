{
 "cells": [
  {
   "cell_type": "code",
   "execution_count": 90,
   "metadata": {},
   "outputs": [
    {
     "data": {
      "text/plain": [
       "8539"
      ]
     },
     "execution_count": 90,
     "metadata": {},
     "output_type": "execute_result"
    }
   ],
   "source": [
    "from sklearn.preprocessing import MinMaxScaler\n",
    "import numpy as np\n",
    "np.random.seed(0)\n",
    "from treePlotter import createPlot\n",
    "import matplotlib.pyplot as plt\n",
    "%matplotlib inline\n",
    "import gc\n",
    "gc.collect()"
   ]
  },
  {
   "cell_type": "code",
   "execution_count": 91,
   "metadata": {},
   "outputs": [],
   "source": [
    "# p202 西瓜数据集4.0\n",
    "X=np.array([[0.697,0.460],[0.774,0.376],[0.634,0.264],[0.608,0.318],[0.556,0.215],\n",
    "                [0.403,0.237],[0.481,0.149],[0.437,0.211],[0.666,0.091],[0.243,0.267],\n",
    "                [0.245,0.057],[0.343,0.099],[0.639,0.161],[0.657,0.198],[0.360,0.370],\n",
    "                [0.593,0.042],[0.719,0.103],[0.359,0.188],[0.339,0.241],[0.282,0.257],\n",
    "                [0.748,0.232],[0.714,0.346],[0.483,0.312],[0.478,0.437],[0.525,0.369],\n",
    "                [0.751,0.489],[0.532,0.472],[0.473,0.376],[0.725,0.445],[0.446,0.459]])"
   ]
  },
  {
   "cell_type": "code",
   "execution_count": 116,
   "metadata": {},
   "outputs": [],
   "source": [
    "class Kmeans:\n",
    "    def __init__(self, k, maxIter):\n",
    "        self.k = k \n",
    "        self.maxIter = maxIter #最大更新次数\n",
    "        \n",
    "    def fit(self, X):\n",
    "        \n",
    "        #图9.24\n",
    "        n_samples = X.shape[0]\n",
    "        init_index = [int(np.random.random() * n_samples) for _ in range(self.k)]\n",
    "        u = [X[index] for index in init_index] #初始化均值向量    line1\n",
    "        \n",
    "        for _ in range(self.maxIter):   #line 3\n",
    "            C = {}\n",
    "            for c in range(self.k):\n",
    "                C[c] = []\n",
    "                \n",
    "            for j in range(n_samples):   #line 4-7\n",
    "                dji_max = -1\n",
    "                lambdaj = None\n",
    "                for u_ in range(len(u)):\n",
    "                    dji = np.sqrt(np.sum(np.square(X[j] - u[u_])))   #\n",
    "                    if dji > dji_max:\n",
    "                        dji_max = dji\n",
    "                        lambdaj = u_\n",
    "\n",
    "                C[lambdaj].append(j) # line 7  #直接append 不需要再赋值，不然是None\n",
    "            \n",
    "            finish = True\n",
    "            for i in range(self.k): # line 9-16\n",
    "                u_new = (np.sum(X[C[i]], axis=0)+u[i] ) / (len(C[i]) + 1)#按列求均值 \n",
    "                if (np.sum(u_new) - np.sum(u[i]))**2 > (1e-2)**2:  #由于计算精度等问题，采用这样比较两向量是否一致\n",
    "                    finish = False\n",
    "                    u[i] = u_new\n",
    "                \n",
    "            if finish:\n",
    "                break\n",
    "\n",
    "        return C\n",
    "                \n",
    "                            \n",
    "kmeans = Kmeans(k=3, maxIter=100)\n",
    "C = kmeans.fit(X)"
   ]
  },
  {
   "cell_type": "code",
   "execution_count": 117,
   "metadata": {},
   "outputs": [
    {
     "data": {
      "text/plain": [
       "{0: [5, 6, 7, 9, 10, 11, 15, 17, 18, 19],\n",
       " 1: [0, 1, 2, 3, 4, 8, 12, 13, 16, 20, 21, 25, 28],\n",
       " 2: [14, 22, 23, 24, 26, 27, 29]}"
      ]
     },
     "execution_count": 117,
     "metadata": {},
     "output_type": "execute_result"
    }
   ],
   "source": [
    "C"
   ]
  },
  {
   "cell_type": "code",
   "execution_count": 118,
   "metadata": {
    "scrolled": true
   },
   "outputs": [
    {
     "data": {
      "image/png": "[encoded data removed]",
      "text/plain": [
       "<Figure size 432x288 with 1 Axes>"
      ]
     },
     "metadata": {
      "needs_background": "light"
     },
     "output_type": "display_data"
    }
   ],
   "source": [
    "colors = ['r', 'b', 'y']\n",
    "for i in range(len(C)):\n",
    "    for j in C[i]:\n",
    "        plt.scatter(X[j][1], X[j][0], c=colors[i])\n",
    "    "
   ]
  },
  {
   "cell_type": "code",
   "execution_count": null,
   "metadata": {},
   "outputs": [],
   "source": []
  }
 ],
 "metadata": {
  "kernelspec": {
   "display_name": "Python 3",
   "language": "python",
   "name": "python3"
  },
  "language_info": {
   "codemirror_mode": {
    "name": "ipython",
    "version": 3
   },
   "file_extension": ".py",
   "mimetype": "text/x-python",
   "name": "python",
   "nbconvert_exporter": "python",
   "pygments_lexer": "ipython3",
   "version": "3.6.0"
  }
 },
 "nbformat": 4,
 "nbformat_minor": 2
}
