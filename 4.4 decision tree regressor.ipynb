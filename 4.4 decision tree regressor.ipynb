{
 "cells": [
  {
   "cell_type": "code",
   "execution_count": 1,
   "metadata": {},
   "outputs": [
    {
     "data": {
      "text/plain": [
       "4"
      ]
     },
     "execution_count": 1,
     "metadata": {},
     "output_type": "execute_result"
    }
   ],
   "source": [
    "from sklearn.preprocessing import MinMaxScaler\n",
    "import numpy as np\n",
    "np.random.seed(0)\n",
    "from treePlotter import createPlot\n",
    "import matplotlib.pyplot as plt\n",
    "%matplotlib inline\n",
    "import gc\n",
    "gc.collect()"
   ]
  },
  {
   "cell_type": "code",
   "execution_count": 2,
   "metadata": {},
   "outputs": [],
   "source": [
    "watermelon_data = np.array([[0, 0, 0, 0, 0, 0], [1, 0, 1, 0, 0, 0],\n",
    "                                         [1, 0, 0, 0, 0, 0], [0, 0, 1, 0, 0, 0],\n",
    "                                         [2, 0, 0, 0, 0, 0], [0, 1, 0, 0, 1, 1],\n",
    "                                         [1, 1, 0, 1, 1, 1], [1, 1, 0, 0, 1, 0],\n",
    "                                         [1, 1, 1, 1, 1, 0], [0, 2, 2, 0, 2, 1],\n",
    "                                         [2, 2, 2, 2, 2, 0], [2, 0, 0, 2, 2, 1],\n",
    "                                         [0, 1, 0, 1, 0, 0], [2, 1, 1, 1, 0, 0],\n",
    "                                         [1, 1, 0, 0, 1, 1], [2, 0, 0, 2, 2, 0],\n",
    "                                         [0, 0, 1, 1, 1, 0]])\n",
    "\n",
    "label = np.array([1, 1, 1, 1, 1, 1, 1, 1, 0, 0, 0, 0, 0, 0, 0, 0, 0])\n",
    "X_test=np.array([[0, 0, 1, 0, 0, 0], [1, 0, 1, 0, 0, 0],\n",
    "                        [1, 1, 0, 1, 1, 0], [1, 0, 1, 1, 1, 0],\n",
    "                        [1, 1, 0, 0, 1, 1], [2, 0, 0, 2, 2, 0],\n",
    "                        [0, 0, 1, 1, 1, 0]])"
   ]
  },
  {
   "cell_type": "code",
   "execution_count": 86,
   "metadata": {},
   "outputs": [],
   "source": [
    "class DecisionTreeClassifier:\n",
    "    def __init__(self, tree_type='ID3'):\n",
    "        self.tree = None\n",
    "        self.tree_type = tree_type  #决策树种类\n",
    "        if self.tree_type=='ID3':  #决策树种类对应求gain方法\n",
    "            self.gain_type = self.Gain  #4.2.1\n",
    "        elif self.tree_type=='C45':\n",
    "            self.gain_type = self.Gain_ratio #4.2.2\n",
    "        elif self.tree_type=='CART':\n",
    "            self.gain_type = self.Gini_index #4.2.3\n",
    "    \n",
    "    def fit(self, X, Y):\n",
    "        #图4.2 对应输入格式 训练集D 属性集A\n",
    "        D = {}\n",
    "        D['X'] = X  \n",
    "        D['Y'] = Y\n",
    "        A = np.arange(X.shape[1])\n",
    "        self.tree = self.TreeGenerate(D, A)   # self.TreeGenerate这种用法？？？？   \n",
    "        \n",
    "    def predict(self, X):\n",
    "        #根据节点编号，进入字典，一直到最终取值\n",
    "        y_hat = []\n",
    "        samples = X.shape[0]\n",
    "        for v in range(samples):\n",
    "            y_hat.append(self.TreePredict(self.tree, X[v])) #X[v] 一个样本\n",
    "        return y_hat\n",
    "        \n",
    "        \n",
    "    def TreeGenerate(self, D, A):\n",
    "        #情形1\n",
    "        classes = np.unique(D['Y']) #统计有几种label\n",
    "        n_class = len(classes) #统计类别数\n",
    "        if n_class==1:\n",
    "            return classes[0] #选择该特征\n",
    "\n",
    "        #情形2\n",
    "        flag = True #判断所有样本在所有属性上值是否相同\n",
    "        for a in A:\n",
    "            if len(np.unique(D['X'][:,a])) > 1:\n",
    "                flag = False\n",
    "                break\n",
    "        if len(A)==0 or flag:\n",
    "            return np.argmax(np.bincount(D['Y'])) #选择类别数最多的特征\n",
    "\n",
    "        #选择最优划分\n",
    "        \n",
    "        #################################################\n",
    "        Gain = [] #总\n",
    "        Ta = [] #划分点\n",
    "        for a in A: #a 为总节点下一个特征  以下计算公式4.2   \n",
    "            t, gain = self.gain_type(D, a)\n",
    "            Ta.append(t)\n",
    "            Gain.append(gain) #根据不同类型决策树，计算gain\n",
    "        #################################################\n",
    "        \n",
    "        best_attr = A[np.argmax(Gain)] #选择信息增益最大的特征(要在特征集字段A里选择！！！) 图4.2 第8行；若为C45，做简化处理，最终选择gain_ratio最大的特征\n",
    "        best_Ta = Ta[np.argmax(Gain)]\n",
    "\n",
    "        \n",
    "        tree = {best_attr:{}}  #每一个结点都创建这样的dict\n",
    "        #subA = np.delete(A, np.argmax(Gain))  #去除best_attr后的属性集\n",
    "        \n",
    "        a_best_attr = [0, 1] #二分类\n",
    "\n",
    "        for a in a_best_attr: #图4.2 第9行\n",
    "            if a==0:\n",
    "                slices = np.where(D['X'][:, best_attr]<=best_Ta)  #该值对应样本索引\n",
    "            else:\n",
    "                slices = np.where(D['X'][:, best_attr]>best_Ta)  #该值对应样本索引\n",
    "            \n",
    "            #Dv 用来存储其余样本\n",
    "            Dv = {}\n",
    "            Dv['X'] = D['X'][slices]  #line 10\n",
    "            Dv['Y'] = D['Y'][slices]\n",
    "            if len(Dv['Y']) == 0:\n",
    "                    tree[best_attr][best_Ta]=np.argmax(np.bincount(D['Y'])) #若无样本了，说明最佳切分点就是特征值\n",
    "            else:\n",
    "                if a==0: #若不是，则进行下一步左右子树划分\n",
    "                    tree[best_attr]['<={}'.format(best_Ta)]=self.TreeGenerate(Dv, A) \n",
    "                else:\n",
    "                    tree[best_attr]['>{}'.format(best_Ta)]=self.TreeGenerate(Dv, A) \n",
    "                    \n",
    "        return tree\n",
    "    \n",
    "    @classmethod\n",
    "    def Gini(cls, D):\n",
    "        pk = np.bincount(D['Y']) / len(D['Y'])\n",
    "        gini = 1\n",
    "        for p in range(len(pk)):\n",
    "            if pk[p] != 0:\n",
    "                gini -= pk[p] * pk[p] #公式4.5\n",
    "        return gini\n",
    "        \n",
    "    @classmethod\n",
    "    def Gini_index(cls, D, a):\n",
    "        ####################################\n",
    "        #二分法 离散转连续\n",
    "        ####################################\n",
    "        sort_a = np.sort(np.unique(D['X'][:, a])) #将连续属性值进行排序\n",
    "        sort_f = np.delete(sort_a, 0) #去除0号位置\n",
    "        sort_l = np.delete(sort_a, -1) #去除最后位置\n",
    "        Ta = (sort_f + sort_l) / 2 #划分点集合 公式4.7\n",
    "        if len(Ta)==0: #若只剩下1个属性\n",
    "            Ta = sort_a\n",
    "        best_Ta = 0\n",
    "        best_Gain = -100000\n",
    "        for t in Ta: #遍历所有候选点\n",
    "            unique = [0, 1] #a字段特征共有多少不同类别的值； 2类 <= >\n",
    "            Gini_D = cls.Gini(D) #每一个子类的gain\n",
    "            Dv_leaf = [] # dv / D\n",
    "            Gini_leaf = [] #每一个子类的ent\n",
    "            for u in unique:\n",
    "                Gini_ = 0\n",
    "                if u==0:\n",
    "                    slices = np.where(D['X'][:, a]<=t)  #该值对应样本索引\n",
    "                else:\n",
    "                    slices = np.where(D['X'][:, a]>t)  #该值对应样本索引\n",
    "                Dv_D = len(slices[0]) / len(D['X']) #每个类别所占整体比例为多少 D1 / D\n",
    "                Dv_leaf.append(Dv_D)\n",
    "                Dv = {}\n",
    "                Dv['Y'] = D['Y'][slices]\n",
    "                Gini_=cls.Gini(Dv)\n",
    "                Gini_leaf.append(Gini_)\n",
    "\n",
    "            for u in range(len(unique)):\n",
    "                Gini_D += Dv_leaf[u] * Gini_leaf[u] #公式4.6\n",
    "                \n",
    "            if -Gini_D>best_Gain: #选择最优划分点和对应的gain\n",
    "                best_Ta = t\n",
    "                best_Gain = Gini_D\n",
    "            \n",
    "        return best_Ta, -best_Gain #取- ，则在特征选择时选择argmax，和其他决策树保持一致\n",
    "    \n",
    "    \n",
    "    def TreePredict(self, Ftree, sample):\n",
    "        tree = Ftree\n",
    "        attr = list(tree.keys())[0] #这一节点特征字段\n",
    "        next_attr = list(list(tree.values())[0].keys()) #下一节点分类依据 [<=0.5，>0.5]\n",
    "        ta = np.float(next_attr[0][2:]) #取出分割点\n",
    "        v = sample[attr] #特征字段对应值\n",
    "        if v <= ta: #判断属于哪一子树\n",
    "            next_tree = tree[attr][next_attr[0]]  #进入字典下一层 左子树\n",
    "        else:\n",
    "            next_tree = tree[attr][next_attr[1]]  #进入字典下一层 右子树\n",
    "            \n",
    "        if not isinstance(next_tree, dict): #如果下一层不是字典，那么说明是类别值，则返回预测结果\n",
    "            return next_tree\n",
    "        else:\n",
    "            return self.TreePredict(next_tree, sample)  #如果下一层是字典，那么说明还没到最终，则将这棵树继续递归\n",
    "    "
   ]
  },
  {
   "cell_type": "code",
   "execution_count": 87,
   "metadata": {
    "scrolled": true
   },
   "outputs": [
    {
     "name": "stdout",
     "output_type": "stream",
     "text": [
      "{3: {'<=0.5': {5: {'<=0.5': 1, '>0.5': {0: {'<=0.5': {1: {'<=1.5': 1, '>1.5': 0}}, '>0.5': 0}}}}, '>0.5': {5: {'<=0.5': 0, '>0.5': {0: {'<=1.5': 1, '>1.5': 0}}}}}}\n"
     ]
    },
    {
     "data": {
      "image/png": "[encoded data removed]",
      "text/plain": [
       "<Figure size 432x288 with 1 Axes>"
      ]
     },
     "metadata": {},
     "output_type": "display_data"
    },
    {
     "name": "stdout",
     "output_type": "stream",
     "text": [
      "[1, 1, 0, 0, 0, 0, 0]\n"
     ]
    }
   ],
   "source": [
    "#numpy\n",
    "dt = DecisionTreeClassifier(tree_type='CART')\n",
    "dt.fit(watermelon_data, label)\n",
    "y_hat  = dt.predict(X_test)\n",
    "\n",
    "print(dt.tree)\n",
    "createPlot(dt.tree)\n",
    "print(y_hat)"
   ]
  },
  {
   "cell_type": "code",
   "execution_count": null,
   "metadata": {},
   "outputs": [],
   "source": []
  },
  {
   "cell_type": "code",
   "execution_count": null,
   "metadata": {},
   "outputs": [],
   "source": []
  }
 ],
 "metadata": {
  "kernelspec": {
   "display_name": "Python 3",
   "language": "python",
   "name": "python3"
  },
  "language_info": {
   "codemirror_mode": {
    "name": "ipython",
    "version": 3
   },
   "file_extension": ".py",
   "mimetype": "text/x-python",
   "name": "python",
   "nbconvert_exporter": "python",
   "pygments_lexer": "ipython3",
   "version": "3.6.0"
  }
 },
 "nbformat": 4,
 "nbformat_minor": 2
}
