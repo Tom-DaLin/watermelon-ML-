{
 "cells": [
  {
   "cell_type": "code",
   "execution_count": 37,
   "metadata": {},
   "outputs": [
    {
     "data": {
      "text/plain": [
       "62337"
      ]
     },
     "execution_count": 37,
     "metadata": {},
     "output_type": "execute_result"
    }
   ],
   "source": [
    "import numpy as np\n",
    "np.random.seed(0)\n",
    "import matplotlib.pyplot as plt\n",
    "%matplotlib inline\n",
    "import gc\n",
    "gc.collect()"
   ]
  },
  {
   "cell_type": "code",
   "execution_count": 38,
   "metadata": {},
   "outputs": [],
   "source": [
    "X = np.array([[2, -1], [3, -2], [1, 0], [0,1],[-2,1],[-1.3,0.3],[-0.2,-0.8],[2.3,-3.3],[-2,-4],[7,8]])\n",
    "y = np.array([1, 1, 1, 1,-1,-1,-1,-1,-1,1])"
   ]
  },
  {
   "cell_type": "code",
   "execution_count": 39,
   "metadata": {},
   "outputs": [],
   "source": [
    "#通过SMO算法进行优化求解\n",
    "class SVC:\n",
    "    def __init__(self, C=1, maxIter=10):\n",
    "        self.C = C\n",
    "        self.maxIter = maxIter\n",
    "        self.K = None\n",
    "        self.alpha = np.zeros(n_samples) #初始化alpha\n",
    "        self.b = 0 #初始化b\n",
    "        self.X = None\n",
    "        self.y = None\n",
    "    \n",
    "    def fit(self, X, y):\n",
    "        self.X = X\n",
    "        self.y = y\n",
    "        n_samples = X.shape[0]\n",
    "        alpha = self.alpha\n",
    "        iter_num = 0\n",
    "        self.K = computeK(X) #计算kernel\n",
    "        K = self.K\n",
    "        b = self.b\n",
    "        \n",
    "        while(iter_num < self.maxIter):\n",
    "            u = self.compute_u(X, y)\n",
    "            iter_num += 1\n",
    "            finish = True\n",
    "            for i in range(n_samples):\n",
    "                if not self.checkKKT(u,y,i):  #若不满足KKT条件，则需要进行参数更新\n",
    "                    finish = False\n",
    "                    alpha_old = alpha.copy()   #旧值后续要用\n",
    "                    y_indices = np.delete(np.arange(n_samples), i) #去除i\n",
    "                    j = y_indices[int(np.random.random()*len(y_indices))] #随机选择除i外的j\n",
    "\n",
    "                    #计算误差\n",
    "                    Ei = np.sum(alpha*y*K[:, i])+b-y[i] #对应元素相乘，所以用*\n",
    "                    Ej = np.sum(alpha*y*K[:, j])+b-y[j]\n",
    "\n",
    "                    #计算上下边界\n",
    "                    if y[i] != y[j]:\n",
    "                        L = max(0, alpha[j] - alpha[i])\n",
    "                        H = min(self.C, self.C + alpha[j] - alpha[i])\n",
    "                    else:\n",
    "                        L = max(0, alpha[j] + alpha[i] - self.C)\n",
    "                        H = min(self.C, alpha[j] + alpha[i])\n",
    "\n",
    "                    #计算eta\n",
    "                    eta = K[i, i] + K[j, j] - 2*K[i, j]\n",
    "\n",
    "                    #更新alpha j\n",
    "                    alpha[j] = alpha[j] + y[j]*(Ei-Ej) / eta\n",
    "\n",
    "                    #根据取值范围修剪alpha j\n",
    "                    if alpha[j] > H:\n",
    "                        alpha[j] = H\n",
    "                    elif (alpha[j] >=L) and (alpha[j] <=H):\n",
    "                        pass\n",
    "                    else:\n",
    "                        alpha[j] = L\n",
    "\n",
    "                    #更新alpha i\n",
    "                    alpha[i] = alpha[i] + y[i]*y[j]*(alpha[j] - alpha_old[j])\n",
    "\n",
    "                    #更新b\n",
    "                    bi = -Ei - y[i]*K[i, i]*(alpha[i] - alpha_old[i]) - y[j]*K[j, i]*(alpha[j] - alpha_old[j]) + b\n",
    "                    bj = -Ej - y[i]*K[i, j]*(alpha[i] - alpha_old[i]) - y[j]*K[j, i]*(alpha[j] - alpha_old[j]) + b\n",
    "\n",
    "                    if (alpha[i]>0) and (alpha[i]<self.C):\n",
    "                        b = bi\n",
    "                    elif (alpha[j]>0) and (alpha[j]<self.C):\n",
    "                        b = bj\n",
    "                    else:\n",
    "                        b = np.mean(bi+bj)\n",
    "                    \n",
    "                    self.alpha = alpha\n",
    "                    self.b = b\n",
    "            if finish:\n",
    "                break\n",
    "                \n",
    "    def predict(self,X):\n",
    "        y_preds=[]\n",
    "        for i in range(X.shape[0]):\n",
    "            K=np.zeros((len(self.y),))\n",
    "            support_indices=np.where(self.alpha>0)[0]\n",
    "            for j in support_indices:\n",
    "                K[j]=self.X[j].dot(X[i])\n",
    "            y_pred=np.sum(self.y[support_indices]*self.alpha[support_indices]*K[support_indices].T)\n",
    "            y_pred+=self.b\n",
    "            y_preds.append(y_pred)\n",
    "        return np.array(y_preds)\n",
    "\n",
    "        \n",
    "\n",
    "    def computeK(self, X):  #计算x的所有相关k\n",
    "        n_samples = X.shape[0]\n",
    "        K = np.zeros((n_samples, n_samples))\n",
    "        for i in range(n_samples):\n",
    "            for j in range(n_samples):\n",
    "                if i<=j:\n",
    "                    K[i, j] = X[i].dot(X[j])  #linear kernel\n",
    "                else:\n",
    "                    K[j, i] = K[i, j]\n",
    "        return K\n",
    "    \n",
    "    def compute_u(self,X,y):\n",
    "        u = np.zeros((X.shape[0],))\n",
    "        for j in range(X.shape[0]):\n",
    "            u[j]=np.sum(y*self.alpha*self.K[:,j])+self.b\n",
    "        return u\n",
    "    \n",
    "    def checkKKT(self, u, y, i): #检查是否满足KKT条件\n",
    "        if (self.alpha[i]==0) and (y[i]*u[i]<1):\n",
    "            return False\n",
    "        elif (self.alpha[i]==self.C) and (y[i]*u[i]>1):\n",
    "            return False\n",
    "        elif (self.alpha[i]>0 and self.alpha[i]<self.C) and (y[i]*u[i]!=1):\n",
    "            return False\n",
    "        return True\n",
    "            \n",
    "    \n"
   ]
  },
  {
   "cell_type": "code",
   "execution_count": 40,
   "metadata": {},
   "outputs": [
    {
     "name": "stdout",
     "output_type": "stream",
     "text": [
      "alpha: [-0.18949988  0.0028913   0.06700074 -0.05677673  0.50126607  0.67553841\n",
      "  1.02954025  0.29152818 -0.99058403 -0.00275203]\n",
      "b: 3.7169260092378282\n"
     ]
    }
   ],
   "source": [
    "svc=SVC(C=1)\n",
    "svc.fit(X,y)\n",
    "print('alpha:',svc.alpha)\n",
    "print('b:',svc.b)\n",
    "pred_y=svc.predict(np.array([[1,0],[-0.2,-0.1],[0,1]]))\n",
    "pred_y=np.sign(pred_y)"
   ]
  },
  {
   "cell_type": "code",
   "execution_count": 35,
   "metadata": {},
   "outputs": [
    {
     "data": {
      "text/plain": [
       "array([1., 1., 1.])"
      ]
     },
     "execution_count": 35,
     "metadata": {},
     "output_type": "execute_result"
    }
   ],
   "source": [
    "pred_y"
   ]
  },
  {
   "cell_type": "code",
   "execution_count": null,
   "metadata": {},
   "outputs": [],
   "source": []
  }
 ],
 "metadata": {
  "kernelspec": {
   "display_name": "Python 3",
   "language": "python",
   "name": "python3"
  },
  "language_info": {
   "codemirror_mode": {
    "name": "ipython",
    "version": 3
   },
   "file_extension": ".py",
   "mimetype": "text/x-python",
   "name": "python",
   "nbconvert_exporter": "python",
   "pygments_lexer": "ipython3",
   "version": "3.6.0"
  }
 },
 "nbformat": 4,
 "nbformat_minor": 2
}
