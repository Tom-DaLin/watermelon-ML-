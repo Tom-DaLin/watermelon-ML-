{
 "cells": [
  {
   "cell_type": "code",
   "execution_count": 35,
   "metadata": {},
   "outputs": [
    {
     "data": {
      "text/plain": [
       "54878"
      ]
     },
     "execution_count": 35,
     "metadata": {},
     "output_type": "execute_result"
    }
   ],
   "source": [
    "import numpy as np\n",
    "from numpy.linalg import eig #特征值分解\n",
    "np.random.seed(0)\n",
    "import matplotlib.pyplot as plt\n",
    "%matplotlib inline\n",
    "import gc\n",
    "gc.collect()"
   ]
  },
  {
   "cell_type": "code",
   "execution_count": 36,
   "metadata": {},
   "outputs": [],
   "source": [
    "watermelon_data = np.array([[0, 0, 0, 0, 0, 0], [1, 0, 1, 0, 0, 0],\n",
    "                                         [1, 0, 0, 0, 0, 0], [0, 0, 1, 0, 0, 0],\n",
    "                                         [2, 0, 0, 0, 0, 0], [0, 1, 0, 0, 1, 1],\n",
    "                                         [1, 1, 0, 1, 1, 1], [1, 1, 0, 0, 1, 0],\n",
    "                                         [1, 1, 1, 1, 1, 0], [0, 2, 2, 0, 2, 1],\n",
    "                                         [2, 2, 2, 2, 2, 0], [2, 0, 0, 2, 2, 1],\n",
    "                                         [0, 1, 0, 1, 0, 0], [2, 1, 1, 1, 0, 0],\n",
    "                                         [1, 1, 0, 0, 1, 1], [2, 0, 0, 2, 2, 0],\n",
    "                                         [0, 0, 1, 1, 1, 0]])\n"
   ]
  },
  {
   "cell_type": "code",
   "execution_count": 37,
   "metadata": {},
   "outputs": [
    {
     "name": "stdout",
     "output_type": "stream",
     "text": [
      "[[-1.59519925 -0.10751891]\n",
      " [-0.92530851 -0.19133983]\n",
      " [-1.16070535 -0.67901966]\n",
      " [-1.35980241  0.38016092]\n",
      " [-0.72621146 -1.2505204 ]\n",
      " [-0.62803467  0.80157792]\n",
      " [ 0.36709056 -0.04419937]\n",
      " [-0.28394036  0.06258092]\n",
      " [ 0.51208781  0.2759842 ]\n",
      " [ 0.71952401  2.51853815]\n",
      " [ 2.61937486  0.65948732]\n",
      " [ 1.6751547  -1.22846435]\n",
      " [-0.75265489  0.15824868]\n",
      " [ 0.35172975 -0.49707298]\n",
      " [-0.19354077  0.23007717]\n",
      " [ 1.58475511 -1.39596061]\n",
      " [-0.20431913  0.30744081]]\n"
     ]
    }
   ],
   "source": [
    "class PCA:\n",
    "    def __init__(self, d):\n",
    "        self.d = d\n",
    "        self.W = None\n",
    "        self.x = None\n",
    "    \n",
    "    def fit(self, X):\n",
    "        #图10.5\n",
    "        X = X - np.mean(X, axis=0) #line1\n",
    "        var = X.T.dot(X)\n",
    "        vals, vecs = eig(var) #特征值分解\n",
    "        index = np.argsort(vals)[::-1] #排序\n",
    "        self.W = vecs[:, index][:, :self.d] #前d个\n",
    "        \n",
    "        self.x = X\n",
    "    \n",
    "    def fit_transform(self, X):\n",
    "        self.fit(X)\n",
    "        x_new = self.x.dot(self.W)\n",
    "        return x_new\n",
    "\n",
    "pca = PCA(d=2)\n",
    "pca.fit(watermelon_data)\n",
    "x_new = pca.fit_transform(watermelon_data)\n",
    "print(x_new)"
   ]
  },
  {
   "cell_type": "code",
   "execution_count": 38,
   "metadata": {},
   "outputs": [
    {
     "name": "stdout",
     "output_type": "stream",
     "text": [
      "[[-1.59519925 -0.10751891]\n",
      " [-0.92530851 -0.19133983]\n",
      " [-1.16070535 -0.67901966]\n",
      " [-1.35980241  0.38016092]\n",
      " [-0.72621146 -1.2505204 ]\n",
      " [-0.62803467  0.80157792]\n",
      " [ 0.36709056 -0.04419937]\n",
      " [-0.28394036  0.06258092]\n",
      " [ 0.51208781  0.2759842 ]\n",
      " [ 0.71952401  2.51853815]\n",
      " [ 2.61937486  0.65948732]\n",
      " [ 1.6751547  -1.22846435]\n",
      " [-0.75265489  0.15824868]\n",
      " [ 0.35172975 -0.49707298]\n",
      " [-0.19354077  0.23007717]\n",
      " [ 1.58475511 -1.39596061]\n",
      " [-0.20431913  0.30744081]]\n"
     ]
    }
   ],
   "source": [
    "import sklearn.decomposition as decomposition\n",
    "sklearn_PCA=decomposition.PCA(n_components=2,svd_solver='full')\n",
    "Z2=sklearn_PCA.fit_transform(watermelon_data)\n",
    "print(Z2)\n"
   ]
  },
  {
   "cell_type": "code",
   "execution_count": null,
   "metadata": {},
   "outputs": [],
   "source": []
  }
 ],
 "metadata": {
  "kernelspec": {
   "display_name": "Python 3",
   "language": "python",
   "name": "python3"
  },
  "language_info": {
   "codemirror_mode": {
    "name": "ipython",
    "version": 3
   },
   "file_extension": ".py",
   "mimetype": "text/x-python",
   "name": "python",
   "nbconvert_exporter": "python",
   "pygments_lexer": "ipython3",
   "version": "3.6.0"
  }
 },
 "nbformat": 4,
 "nbformat_minor": 2
}
