{
 "cells": [
  {
   "cell_type": "code",
   "execution_count": 14,
   "metadata": {},
   "outputs": [
    {
     "data": {
      "text/plain": [
       "38024"
      ]
     },
     "execution_count": 14,
     "metadata": {},
     "output_type": "execute_result"
    }
   ],
   "source": [
    "import numpy as np\n",
    "np.random.seed(0)\n",
    "import matplotlib.pyplot as plt\n",
    "%matplotlib inline\n",
    "import gc\n",
    "gc.collect()"
   ]
  },
  {
   "cell_type": "code",
   "execution_count": 15,
   "metadata": {},
   "outputs": [],
   "source": [
    "# p202 西瓜数据集4.0\n",
    "X=np.array([[0.697,0.460],[0.774,0.376],[0.634,0.264],[0.608,0.318],[0.556,0.215],\n",
    "                [0.403,0.237],[0.481,0.149],[0.437,0.211],[0.666,0.091],[0.243,0.267],\n",
    "                [0.245,0.057],[0.343,0.099],[0.639,0.161],[0.657,0.198],[0.360,0.370],\n",
    "                [0.593,0.042],[0.719,0.103],[0.359,0.188],[0.339,0.241],[0.282,0.257],\n",
    "                [0.748,0.232],[0.714,0.346],[0.483,0.312],[0.478,0.437],[0.525,0.369],\n",
    "                [0.751,0.489],[0.532,0.472],[0.473,0.376],[0.725,0.445],[0.446,0.459]])\n",
    "\n"
   ]
  },
  {
   "cell_type": "code",
   "execution_count": 47,
   "metadata": {},
   "outputs": [
    {
     "name": "stdout",
     "output_type": "stream",
     "text": [
      "{0: [0, 1, 21, 25, 28], 1: [2, 3, 4, 6, 8, 12, 13, 15, 16, 20], 2: [5, 7, 9, 10, 11, 14, 17, 18, 19, 22, 23, 24, 26, 27, 29]}\n"
     ]
    }
   ],
   "source": [
    "class AGNES:\n",
    "    def __init__(self, d, k):\n",
    "        if d=='min':\n",
    "            self.dist = self.dist_min\n",
    "        elif d=='max':\n",
    "            self.dist = self.dist_max\n",
    "        elif d=='avg':\n",
    "            self.dist = self.dist_avg\n",
    "        self.k = k\n",
    "        self.X = None\n",
    "    \n",
    "    def fit(self, X):\n",
    "        #图9.11\n",
    "        n_samples = X.shape[0]\n",
    "        \n",
    "        C = {} \n",
    "        for j in range(n_samples): #line1-2\n",
    "            C[j] = [j]\n",
    "\n",
    "        M = np.zeros((len(C), len(C))) #line 4-8\n",
    "        for i in range(n_samples):\n",
    "            for j in range(i, n_samples):\n",
    "                if i==j:\n",
    "                    M[i, j] = np.inf\n",
    "                else:\n",
    "                    M[i, j] = self.dist(X[C[i]], X[C[j]])\n",
    "                    M[j, i] = M[i, j]\n",
    "        \n",
    "        q = n_samples\n",
    "        while (q>self.k): #line 11-23\n",
    "            index = np.unravel_index(np.argmin(M), M.shape) #返回矩阵中最小值位置\n",
    "            i_star, j_star = np.min(index), np.max(index) #line 12\n",
    "            \n",
    "            C[i_star] = list(set(C[i_star]).union(set(C[j_star]))) #line 13\n",
    "            \n",
    "            for j in range(j_star, len(C)-1): #line 14-15\n",
    "                C[j] = C[j+1]\n",
    "            del C[len(C)-1]\n",
    "            \n",
    "            M = np.zeros((len(C), len(C)))  #line 17-21\n",
    "            for i in range(len(C)):\n",
    "                for j in range(i, len(C)):\n",
    "                    if i==j:\n",
    "                        M[i, j] = np.inf\n",
    "                    else:\n",
    "                        M[i, j] = self.dist(X[C[i]], X[C[j]])\n",
    "                        M[j, i] = M[i, j]\n",
    "            q -= 1\n",
    "        \n",
    "        return C\n",
    "    \n",
    "    @classmethod\n",
    "    def calcute_dist(cls, x1, x2):\n",
    "        return np.sqrt(np.sum(np.square(x1-x2)))\n",
    "    \n",
    "    @classmethod\n",
    "    def dist_min(cls, x1, x2):\n",
    "        dist = []\n",
    "        n_samples1 = x1.shape[0]\n",
    "        n_samples2 = x2.shape[0]\n",
    "        for i in range(n_samples1):\n",
    "            for j in range(n_samples2):\n",
    "                dist.append(cls.calcute_dist(x1[i], x2[j]))\n",
    "        return np.min(np.array(dist))\n",
    "    \n",
    "    @classmethod\n",
    "    def dist_max(cls, x1, x2):\n",
    "        dist = []\n",
    "        n_samples1 = x1.shape[0]\n",
    "        n_samples2 = x2.shape[0]\n",
    "        for i in range(n_samples1):\n",
    "            for j in range(n_samples2):\n",
    "                dist.append(cls.calcute_dist(x1[i], x2[j]))\n",
    "        return np.max(np.array(dist))\n",
    "    \n",
    "    @classmethod\n",
    "    def dist_avg(cls, x1, x2):\n",
    "        dist = []\n",
    "        n_samples1 = x1.shape[0]\n",
    "        n_samples2 = x2.shape[0]\n",
    "        for i in range(n_samples1):\n",
    "            for j in range(n_samples2):\n",
    "                dist.append(cls.calcute_dist(x1[i], x2[j]))\n",
    "        return np.mean(np.array(dist))\n",
    "    \n",
    "\n",
    "agnes = AGNES(d='avg', k=3)\n",
    "C = agnes.fit(X)\n",
    "print(C)\n",
    "        \n",
    "    "
   ]
  },
  {
   "cell_type": "code",
   "execution_count": 48,
   "metadata": {},
   "outputs": [
    {
     "data": {
      "image/png": "[encoded data removed]",
      "text/plain": [
       "<Figure size 432x288 with 1 Axes>"
      ]
     },
     "metadata": {
      "needs_background": "light"
     },
     "output_type": "display_data"
    }
   ],
   "source": [
    "colors = ['r', 'b', 'y', 'g', 'darkgreen']\n",
    "for i in range(len(C)):\n",
    "    for j in range(len(C[i])):     \n",
    "        plt.scatter(X[C[i][j]][1], X[C[i][j]][0], c=colors[i])"
   ]
  },
  {
   "cell_type": "code",
   "execution_count": null,
   "metadata": {},
   "outputs": [],
   "source": []
  }
 ],
 "metadata": {
  "kernelspec": {
   "display_name": "Python 3",
   "language": "python",
   "name": "python3"
  },
  "language_info": {
   "codemirror_mode": {
    "name": "ipython",
    "version": 3
   },
   "file_extension": ".py",
   "mimetype": "text/x-python",
   "name": "python",
   "nbconvert_exporter": "python",
   "pygments_lexer": "ipython3",
   "version": "3.6.0"
  }
 },
 "nbformat": 4,
 "nbformat_minor": 2
}
