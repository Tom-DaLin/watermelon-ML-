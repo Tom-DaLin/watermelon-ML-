{
 "cells": [
  {
   "cell_type": "code",
   "execution_count": 28,
   "metadata": {},
   "outputs": [],
   "source": [
    "from sklearn.datasets import load_boston\n",
    "import numpy as np\n",
    "import matplotlib.pyplot as plt\n",
    "%matplotlib inline"
   ]
  },
  {
   "cell_type": "code",
   "execution_count": 2,
   "metadata": {},
   "outputs": [],
   "source": [
    "#波士顿房价预测数据集（回归问题）\n",
    "boston = load_boston()\n",
    "\n",
    "data = boston.data\n",
    "target = boston.target\n",
    "\n",
    "print(data.shape)\n",
    "print(target.shape)\n",
    "\n",
    "#拆分数据集\n",
    "from sklearn.model_selection import train_test_split\n",
    "x_train, x_test, y_train, y_test = train_test_split(data, target, test_size=0.2)\n",
    "\n",
    "#展示数据维度\n",
    "print(x_train.shape)\n",
    "print(x_test.shape)\n",
    "print(y_train.shape)\n",
    "print(y_test.shape)"
   ]
  },
  {
   "cell_type": "code",
   "execution_count": 52,
   "metadata": {},
   "outputs": [],
   "source": [
    "class LinearRegression:\n",
    "    def __init__(self):\n",
    "        self.w_hat_star = None\n",
    "        self.n_features = None\n",
    "    \n",
    "    def fit(self, x, y):\n",
    "        '''\n",
    "        模型训练\n",
    "        公式3.11, 3.12\n",
    "        '''\n",
    "        #满足数据要求\n",
    "        assert isinstance(x, np.ndarray), isinstance(y, np.ndarray)\n",
    "        assert x.ndim==2, y.ndim==1\n",
    "        assert x.shape[0] == y.shape[0]\n",
    "        \n",
    "        #制作矩阵X 公式3.9上面的X\n",
    "        self.n_features = x.shape[1]\n",
    "        n_example = x.shape[0]\n",
    "        extra = np.ones(n_example)\n",
    "        X = np.c_[x, extra]\n",
    "        \n",
    "        if self.n_features >= n_example:  #判定X.T.dot(X)是否为正定矩阵或满秩矩阵 （对应公式3.11上一行）\n",
    "            raise ValueError('num of examples <= num of features')\n",
    "        \n",
    "        #求公式3.11\n",
    "        self.w_hat_star = np.linalg.inv(X.T.dot(X)).dot(X.T).dot(y)\n",
    "        \n",
    "        #求公式3.12   原书公式貌似有错误，不需要X转置\n",
    "        y_hat = X.dot(self.w_hat_star) \n",
    "        \n",
    "    def predict(self, x):\n",
    "        '''\n",
    "        模型预测\n",
    "        公式3.12\n",
    "        '''\n",
    "        #制作矩阵X 公式3.9上面的X\n",
    "        n_example = x.shape[0]\n",
    "        extra = np.ones(n_example)\n",
    "        X = np.c_[x, extra]\n",
    "        \n",
    "        #求公式3.12   原书公式貌似有错误，不需要X转置\n",
    "        y_hat = X.dot(self.w_hat_star) \n",
    "        \n",
    "        return y_hat\n",
    "\n",
    "\n",
    "#计算rmse      \n",
    "def rmse(y, y_hat):\n",
    "    return np.sqrt(np.mean(np.square(y-y_hat)))\n",
    "   \n",
    "        \n",
    "        \n",
    "        "
   ]
  },
  {
   "cell_type": "code",
   "execution_count": 55,
   "metadata": {},
   "outputs": [
    {
     "name": "stdout",
     "output_type": "stream",
     "text": [
      "4.257532413352959\n"
     ]
    }
   ],
   "source": [
    "#numpy\n",
    "lr = LinearRegression()\n",
    "lr.fit(x_train, y_train)\n",
    "y_hat = lr.predict(x_test)\n",
    "print(rmse(y_test, y_hat))"
   ]
  },
  {
   "cell_type": "code",
   "execution_count": 56,
   "metadata": {},
   "outputs": [
    {
     "name": "stdout",
     "output_type": "stream",
     "text": [
      "4.257532413353118\n"
     ]
    }
   ],
   "source": [
    "#sklearn\n",
    "from sklearn import linear_model\n",
    "lr = linear_model.LinearRegression()\n",
    "lr.fit(x_train, y_train)\n",
    "y_hat = lr.predict(x_test)\n",
    "print(rmse(y_test, y_hat))"
   ]
  },
  {
   "cell_type": "code",
   "execution_count": 57,
   "metadata": {},
   "outputs": [
    {
     "data": {
      "text/plain": [
       "<matplotlib.collections.PathCollection at 0x135649da0>"
      ]
     },
     "execution_count": 57,
     "metadata": {},
     "output_type": "execute_result"
    },
    {
     "data": {
      "image/png": "[encoded data removed]",
      "text/plain": [
       "<Figure size 720x432 with 1 Axes>"
      ]
     },
     "metadata": {
      "needs_background": "light"
     },
     "output_type": "display_data"
    }
   ],
   "source": [
    "figure = plt.figure(figsize=(10, 6))\n",
    "plt.scatter(range(len(y_hat)), y_hat)\n",
    "plt.scatter(range(len(y_test)), y_test)"
   ]
  },
  {
   "cell_type": "code",
   "execution_count": null,
   "metadata": {},
   "outputs": [],
   "source": []
  }
 ],
 "metadata": {
  "kernelspec": {
   "display_name": "Python 3",
   "language": "python",
   "name": "python3"
  },
  "language_info": {
   "codemirror_mode": {
    "name": "ipython",
    "version": 3
   },
   "file_extension": ".py",
   "mimetype": "text/x-python",
   "name": "python",
   "nbconvert_exporter": "python",
   "pygments_lexer": "ipython3",
   "version": "3.6.0"
  }
 },
 "nbformat": 4,
 "nbformat_minor": 2
}
